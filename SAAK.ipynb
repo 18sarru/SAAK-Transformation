{
  "nbformat": 4,
  "nbformat_minor": 0,
  "metadata": {
    "colab": {
      "name": "SAAK.ipynb",
      "provenance": [],
      "authorship_tag": "ABX9TyN+aAj9LlVE8xEA8d1cAsld",
      "include_colab_link": true
    },
    "kernelspec": {
      "name": "python3",
      "display_name": "Python 3"
    },
    "language_info": {
      "name": "python"
    }
  },
  "cells": [
    {
      "cell_type": "markdown",
      "metadata": {
        "id": "view-in-github",
        "colab_type": "text"
      },
      "source": [
        "<a href=\"https://colab.research.google.com/github/18sarru/SAAK-Transformation/blob/main/SAAK.ipynb\" target=\"_parent\"><img src=\"https://colab.research.google.com/assets/colab-badge.svg\" alt=\"Open In Colab\"/></a>"
      ]
    },
    {
      "cell_type": "code",
      "metadata": {
        "colab": {
          "base_uri": "https://localhost:8080/"
        },
        "id": "R4uEKa_sTWiB",
        "outputId": "c7e517cf-d92f-45d3-eef4-30b861fc9228"
      },
      "source": [
        "!pip install data\n",
        "!pip install datasets\n",
        "!pip install data.datasets"
      ],
      "execution_count": null,
      "outputs": [
        {
          "output_type": "stream",
          "name": "stdout",
          "text": [
            "Requirement already satisfied: data in /usr/local/lib/python3.7/dist-packages (0.4)\n",
            "Requirement already satisfied: funcsigs in /usr/local/lib/python3.7/dist-packages (from data) (1.0.2)\n",
            "Requirement already satisfied: six in /usr/local/lib/python3.7/dist-packages (from data) (1.15.0)\n",
            "Requirement already satisfied: decorator in /usr/local/lib/python3.7/dist-packages (from data) (4.4.2)\n",
            "Requirement already satisfied: datasets in /usr/local/lib/python3.7/dist-packages (1.12.1)\n",
            "Requirement already satisfied: tqdm>=4.62.1 in /usr/local/lib/python3.7/dist-packages (from datasets) (4.62.2)\n",
            "Requirement already satisfied: packaging in /usr/local/lib/python3.7/dist-packages (from datasets) (21.0)\n",
            "Requirement already satisfied: pyarrow!=4.0.0,>=1.0.0 in /usr/local/lib/python3.7/dist-packages (from datasets) (3.0.0)\n",
            "Requirement already satisfied: huggingface-hub<0.1.0,>=0.0.14 in /usr/local/lib/python3.7/dist-packages (from datasets) (0.0.17)\n",
            "Requirement already satisfied: pandas in /usr/local/lib/python3.7/dist-packages (from datasets) (1.1.5)\n",
            "Requirement already satisfied: aiohttp in /usr/local/lib/python3.7/dist-packages (from datasets) (3.7.4.post0)\n",
            "Requirement already satisfied: numpy>=1.17 in /usr/local/lib/python3.7/dist-packages (from datasets) (1.19.5)\n",
            "Requirement already satisfied: multiprocess in /usr/local/lib/python3.7/dist-packages (from datasets) (0.70.12.2)\n",
            "Requirement already satisfied: fsspec[http]>=2021.05.0 in /usr/local/lib/python3.7/dist-packages (from datasets) (2021.8.1)\n",
            "Requirement already satisfied: dill in /usr/local/lib/python3.7/dist-packages (from datasets) (0.3.4)\n",
            "Requirement already satisfied: xxhash in /usr/local/lib/python3.7/dist-packages (from datasets) (2.0.2)\n",
            "Requirement already satisfied: requests>=2.19.0 in /usr/local/lib/python3.7/dist-packages (from datasets) (2.23.0)\n",
            "Requirement already satisfied: importlib-metadata in /usr/local/lib/python3.7/dist-packages (from datasets) (4.8.1)\n",
            "Requirement already satisfied: filelock in /usr/local/lib/python3.7/dist-packages (from huggingface-hub<0.1.0,>=0.0.14->datasets) (3.0.12)\n",
            "Requirement already satisfied: typing-extensions in /usr/local/lib/python3.7/dist-packages (from huggingface-hub<0.1.0,>=0.0.14->datasets) (3.7.4.3)\n",
            "Requirement already satisfied: pyparsing>=2.0.2 in /usr/local/lib/python3.7/dist-packages (from packaging->datasets) (2.4.7)\n",
            "Requirement already satisfied: chardet<4,>=3.0.2 in /usr/local/lib/python3.7/dist-packages (from requests>=2.19.0->datasets) (3.0.4)\n",
            "Requirement already satisfied: certifi>=2017.4.17 in /usr/local/lib/python3.7/dist-packages (from requests>=2.19.0->datasets) (2021.5.30)\n",
            "Requirement already satisfied: urllib3!=1.25.0,!=1.25.1,<1.26,>=1.21.1 in /usr/local/lib/python3.7/dist-packages (from requests>=2.19.0->datasets) (1.24.3)\n",
            "Requirement already satisfied: idna<3,>=2.5 in /usr/local/lib/python3.7/dist-packages (from requests>=2.19.0->datasets) (2.10)\n",
            "Requirement already satisfied: async-timeout<4.0,>=3.0 in /usr/local/lib/python3.7/dist-packages (from aiohttp->datasets) (3.0.1)\n",
            "Requirement already satisfied: yarl<2.0,>=1.0 in /usr/local/lib/python3.7/dist-packages (from aiohttp->datasets) (1.6.3)\n",
            "Requirement already satisfied: multidict<7.0,>=4.5 in /usr/local/lib/python3.7/dist-packages (from aiohttp->datasets) (5.1.0)\n",
            "Requirement already satisfied: attrs>=17.3.0 in /usr/local/lib/python3.7/dist-packages (from aiohttp->datasets) (21.2.0)\n",
            "Requirement already satisfied: zipp>=0.5 in /usr/local/lib/python3.7/dist-packages (from importlib-metadata->datasets) (3.5.0)\n",
            "Requirement already satisfied: python-dateutil>=2.7.3 in /usr/local/lib/python3.7/dist-packages (from pandas->datasets) (2.8.2)\n",
            "Requirement already satisfied: pytz>=2017.2 in /usr/local/lib/python3.7/dist-packages (from pandas->datasets) (2018.9)\n",
            "Requirement already satisfied: six>=1.5 in /usr/local/lib/python3.7/dist-packages (from python-dateutil>=2.7.3->pandas->datasets) (1.15.0)\n",
            "\u001b[31mERROR: Could not find a version that satisfies the requirement data.datasets (from versions: none)\u001b[0m\n",
            "\u001b[31mERROR: No matching distribution found for data.datasets\u001b[0m\n"
          ]
        }
      ]
    },
    {
      "cell_type": "code",
      "metadata": {
        "id": "s1LWt5SQTKyI"
      },
      "source": [
        "import torch\n",
        "import argparse\n",
        "from torchvision import datasets, transforms\n",
        "import torchvision\n",
        "import matplotlib.pyplot as plt\n",
        "import numpy as np\n",
        "\n",
        "import torch.utils.data as data_utils\n",
        "from sklearn.decomposition import PCA\n",
        "import torch.nn.functional as F\n",
        "from torch.autograd import Variable"
      ],
      "execution_count": null,
      "outputs": []
    },
    {
      "cell_type": "code",
      "metadata": {
        "colab": {
          "base_uri": "https://localhost:8080/"
        },
        "id": "HLPKvfp3TLmu",
        "outputId": "a9bb2efa-c33a-4b96-c3db-c7037671a201"
      },
      "source": [
        "print (torch.__version__)\n",
        "batch_size=1\n",
        "test_batch_size=1\n",
        "kwargs={}\n",
        "'''train_loader=data_utils.DataLoader(datasets.MNIST(root='./data',train=True,process=False,transform=transforms.Compose([\n",
        "    transforms.Scale((32,32)),\n",
        "    transforms.ToTensor(),\n",
        "])),batch_size=batch_size,shuffle=True,**kwargs)\n",
        "\n",
        "\n",
        "test_loader=data_utils.DataLoader(datasets.MNIST(root='./data',train=False,process=False,transform=transforms.Compose([\n",
        "    transforms.Scale((32,32)),\n",
        "    transforms.ToTensor(),\n",
        "])),batch_size=test_batch_size,shuffle=True,**kwargs)'''\n",
        "\n",
        "train_loader = torch.utils.data.DataLoader(\n",
        "  torchvision.datasets.MNIST('/files/', train=True, download=True,\n",
        "                             transform=torchvision.transforms.Compose([\n",
        "                               torchvision.transforms.ToTensor(),\n",
        "                               transforms.Resize((32,32)),\n",
        "                               torchvision.transforms.Normalize(\n",
        "                                 (0.1307,), (0.3081,))\n",
        "                             ])),\n",
        "  batch_size=batch_size, shuffle=True)\n",
        "\n",
        "test_loader = torch.utils.data.DataLoader(\n",
        "  torchvision.datasets.MNIST('/files/', train=False, download=True,\n",
        "                             transform=torchvision.transforms.Compose([\n",
        "                               torchvision.transforms.ToTensor(),\n",
        "                               transforms.Resize((32,32)),\n",
        "                               torchvision.transforms.Normalize(\n",
        "                                 (0.1307,), (0.3081,))\n",
        "                             ])),\n",
        "  batch_size=batch_size, shuffle=True)"
      ],
      "execution_count": null,
      "outputs": [
        {
          "output_type": "stream",
          "name": "stdout",
          "text": [
            "1.9.0+cu102\n"
          ]
        },
        {
          "output_type": "stream",
          "name": "stderr",
          "text": [
            "/usr/local/lib/python3.7/dist-packages/torchvision/datasets/mnist.py:498: UserWarning: The given NumPy array is not writeable, and PyTorch does not support non-writeable tensors. This means you can write to the underlying (supposedly non-writeable) NumPy array using the tensor. You may want to copy the array to protect its data or make it writeable before converting it to a tensor. This type of warning will be suppressed for the rest of this program. (Triggered internally at  /pytorch/torch/csrc/utils/tensor_numpy.cpp:180.)\n",
            "  return torch.from_numpy(parsed.astype(m[2], copy=False)).view(*s)\n"
          ]
        }
      ]
    },
    {
      "cell_type": "code",
      "metadata": {
        "id": "f_IRyZniTOUC"
      },
      "source": [
        "\n",
        "'''\n",
        "@ For demo use, only use first 1000 samples\n",
        "'''\n",
        "def create_numpy_dataset():\n",
        "    datasets = []\n",
        "    for data in train_loader:\n",
        "        data_numpy = data[0].numpy()\n",
        "        data_numpy = np.squeeze(data_numpy)\n",
        "        datasets.append(data_numpy)\n",
        "\n",
        "    datasets = np.array(datasets)\n",
        "    datasets=np.expand_dims(datasets,axis=1)\n",
        "    return datasets[:100]"
      ],
      "execution_count": null,
      "outputs": []
    },
    {
      "cell_type": "code",
      "metadata": {
        "id": "TmtZ-evvTQk3"
      },
      "source": [
        "\n",
        "'''\n",
        "@ depth: determine shape, initial: 0\n",
        "'''\n",
        "from itertools import product\n",
        "def fit_pca_shape(datasets,depth):\n",
        "    factor=np.power(2,depth)\n",
        "    length=int(32/factor)\n",
        "    idx1=range(0,length,2)\n",
        "    idx2=[i+2 for i in idx1]\n",
        "    data_lattice=[datasets[:,:,i:j,k:l] for ((i,j),(k,l)) in product(zip(idx1,idx2),zip(idx1,idx2))]\n",
        "    data_lattice=np.array(data_lattice)\n",
        "    print ('fit_pca_shape: data_lattice.shape: {}'.format(data_lattice.shape))\n",
        "\n",
        "    #shape reshape\n",
        "    data=np.reshape(data_lattice,(data_lattice.shape[0]*data_lattice.shape[1],data_lattice.shape[2],2,2))\n",
        "    print ('fit_pca_shape: reshape: {}'.format(data.shape))\n",
        "    return data"
      ],
      "execution_count": null,
      "outputs": []
    },
    {
      "cell_type": "code",
      "metadata": {
        "id": "bQnoYaJTU2Oh"
      },
      "source": [
        "\n",
        "'''\n",
        "@ Prepare shape changes. \n",
        "@ return filters for convolution\n",
        "@ aug_anchors: [out_num*in_num,4] -> [out_num,in_num,2,2]\n",
        "'''\n",
        "def ret_filt_patches(aug_anchors,input_channels):\n",
        "    shape=int(aug_anchors.shape[1]/4)\n",
        "    num=int(aug_anchors.shape[0])\n",
        "    filt=np.reshape(aug_anchors,(num,shape,4))\n",
        "    \n",
        "    # reshape to kernels, (# output_channels,# input_channels,2,2)\n",
        "    filters=np.reshape(filt,(num,shape,2,2))\n",
        "\n",
        "    return filters"
      ],
      "execution_count": null,
      "outputs": []
    },
    {
      "cell_type": "code",
      "metadata": {
        "id": "tloJCMR0U7CP"
      },
      "source": [
        "def PCA_and_augment(data_in):\n",
        "    # data reshape\n",
        "    data=np.reshape(data_in,(data_in.shape[0],-1))\n",
        "    mean=np.mean(data,axis=0)\n",
        "    datas_mean_remov = data - mean\n",
        "\n",
        "    pca=PCA()\n",
        "    datas_mean_remov.astype(np.float64)\n",
        "    pca.fit(datas_mean_remov)\n",
        "    comps=pca.components_\n",
        "\n",
        "    if comps[-1][0]<0:\n",
        "        for i in comps:\n",
        "            i*=-1\n",
        "    comps_aug=[vec*(-1) for vec in comps]\n",
        "    comps_complete=np.vstack((comps,comps_aug))\n",
        "    \n",
        "    return comps_complete,mean"
      ],
      "execution_count": null,
      "outputs": []
    },
    {
      "cell_type": "code",
      "metadata": {
        "id": "PlrC7-s8VBxm"
      },
      "source": [
        "def conv_and_relu(filters,datasets,stride=2):\n",
        "    # torch data change\n",
        "    \n",
        "    filters_t=torch.from_numpy(filters)\n",
        "    datasets_t=torch.from_numpy(datasets)\n",
        "\n",
        "    # Variables\n",
        "    filt=Variable(filters_t).type(torch.FloatTensor)\n",
        "    data=Variable(datasets_t).type(torch.FloatTensor)\n",
        "\n",
        "    # Convolution\n",
        "    output=F.conv2d(data,filt,stride=stride)\n",
        "\n",
        "    # Relu\n",
        "    relu_output=F.relu(output)\n",
        "\n",
        "    return relu_output,filt"
      ],
      "execution_count": null,
      "outputs": []
    },
    {
      "cell_type": "code",
      "metadata": {
        "id": "_qXZL-tjVGb7"
      },
      "source": [
        "def one_stage_saak_trans(datasets=None,depth=0):\n",
        "\n",
        "    print ('one_stage_saak_trans: datasets.shape {}'.format(datasets.shape))\n",
        "    input_channels=datasets.shape[1]\n",
        "\n",
        "    data_flatten=fit_pca_shape(datasets,depth)\n",
        "    \n",
        "    comps_complete,mean=PCA_and_augment(data_flatten)\n",
        "\n",
        "    filters=ret_filt_patches(comps_complete,input_channels)\n",
        "    print ('one_stage_saak_trans: filters: {}'.format(filters.shape))\n",
        "\n",
        "    mean=np.mean(datasets,axis=0)\n",
        "    datasets-=mean\n",
        "    relu_output,filt=conv_and_relu(filters,datasets,stride=2)\n",
        "    res=relu_output.data.numpy()\n",
        "    \n",
        "    print ('one_stage_saak_trans final.shape: {}'.format(res.shape))\n",
        "\n",
        "    return res,filt,Variable(torch.from_numpy(res)),mean"
      ],
      "execution_count": null,
      "outputs": []
    },
    {
      "cell_type": "code",
      "metadata": {
        "id": "mpCa_b8yVJrZ"
      },
      "source": [
        "\n",
        "'''\n",
        "@ Multi-stage Saak transform\n",
        "'''\n",
        "def multi_stage_saak_trans():\n",
        "    filters = []\n",
        "    outputs = []\n",
        "    means=[]\n",
        "    data=create_numpy_dataset()\n",
        "    dataset=np.copy(data)\n",
        "    num=0\n",
        "    img_len=data.shape[-1]\n",
        "    while(img_len>=2):\n",
        "        num+=1\n",
        "        img_len/=2\n",
        "\n",
        "    for i in range(num):\n",
        "        print ('{} stage of saak transform: '.format(i+1))\n",
        "        data,filt,output,mean=one_stage_saak_trans(data,depth=i)\n",
        "        filters.append(filt)\n",
        "        outputs.append(output)\n",
        "        means.append(mean)\n",
        "        print ('')\n",
        "    return dataset,filters,outputs,means\n"
      ],
      "execution_count": null,
      "outputs": []
    },
    {
      "cell_type": "code",
      "metadata": {
        "colab": {
          "base_uri": "https://localhost:8080/"
        },
        "id": "ibdCeNyPVStx",
        "outputId": "59a53b89-02f5-4533-d744-f8772bc23ee3"
      },
      "source": [
        "datas,filters,outputs,means=multi_stage_saak_trans()"
      ],
      "execution_count": null,
      "outputs": [
        {
          "output_type": "stream",
          "name": "stdout",
          "text": [
            "1 stage of saak transform: \n",
            "one_stage_saak_trans: datasets.shape (100, 1, 32, 32)\n",
            "fit_pca_shape: data_lattice.shape: (256, 100, 1, 2, 2)\n",
            "fit_pca_shape: reshape: (25600, 1, 2, 2)\n",
            "one_stage_saak_trans: filters: (8, 1, 2, 2)\n",
            "one_stage_saak_trans final.shape: (100, 8, 16, 16)\n",
            "\n",
            "2 stage of saak transform: \n",
            "one_stage_saak_trans: datasets.shape (100, 8, 16, 16)\n",
            "fit_pca_shape: data_lattice.shape: (64, 100, 8, 2, 2)\n",
            "fit_pca_shape: reshape: (6400, 8, 2, 2)\n",
            "one_stage_saak_trans: filters: (64, 8, 2, 2)\n",
            "one_stage_saak_trans final.shape: (100, 64, 8, 8)\n",
            "\n",
            "3 stage of saak transform: \n",
            "one_stage_saak_trans: datasets.shape (100, 64, 8, 8)\n",
            "fit_pca_shape: data_lattice.shape: (16, 100, 64, 2, 2)\n",
            "fit_pca_shape: reshape: (1600, 64, 2, 2)\n",
            "one_stage_saak_trans: filters: (512, 64, 2, 2)\n",
            "one_stage_saak_trans final.shape: (100, 512, 4, 4)\n",
            "\n",
            "4 stage of saak transform: \n",
            "one_stage_saak_trans: datasets.shape (100, 512, 4, 4)\n",
            "fit_pca_shape: data_lattice.shape: (4, 100, 512, 2, 2)\n",
            "fit_pca_shape: reshape: (400, 512, 2, 2)\n",
            "one_stage_saak_trans: filters: (800, 512, 2, 2)\n",
            "one_stage_saak_trans final.shape: (100, 800, 2, 2)\n",
            "\n",
            "5 stage of saak transform: \n",
            "one_stage_saak_trans: datasets.shape (100, 800, 2, 2)\n",
            "fit_pca_shape: data_lattice.shape: (1, 100, 800, 2, 2)\n",
            "fit_pca_shape: reshape: (100, 800, 2, 2)\n",
            "one_stage_saak_trans: filters: (200, 800, 2, 2)\n",
            "one_stage_saak_trans final.shape: (100, 200, 1, 1)\n",
            "\n"
          ]
        }
      ]
    },
    {
      "cell_type": "code",
      "metadata": {
        "id": "2nKKcIezVc75"
      },
      "source": [
        "def show_sample(ori,rec):\n",
        "    plt.subplot(1,2,1)\n",
        "    plt.imshow(ori)\n",
        "    plt.subplot(1,2,2)\n",
        "    plt.imshow(rec)\n",
        "    plt.show()"
      ],
      "execution_count": null,
      "outputs": []
    },
    {
      "cell_type": "code",
      "metadata": {
        "id": "zP-tzpc_VhrA"
      },
      "source": [
        "import numpy as np\n",
        "\n",
        "def psnr(im1,im2):\n",
        "    diff =(im1 - im2)\n",
        "    diff=diff**2\n",
        "    rmse=np.sqrt(np.mean(diff.sum()))\n",
        "    psnr = 20*np.log10(1/rmse)\n",
        "    return psnr"
      ],
      "execution_count": null,
      "outputs": []
    },
    {
      "cell_type": "code",
      "metadata": {
        "id": "lcx202SgVwTH"
      },
      "source": [
        "def toy_recon(outputs,filters,means):\n",
        "    outputs=outputs[::-1][2:]\n",
        "    filters=filters[::-1][2:]\n",
        "    means=means[::-1][2:]\n",
        "    num=len(outputs)\n",
        "    data=outputs[0]\n",
        "    for i in range(num):\n",
        "        data = F.conv_transpose2d(data, filters[i], stride=2)\n",
        "        data+=Variable(torch.from_numpy(means[i]))\n",
        "    return data"
      ],
      "execution_count": null,
      "outputs": []
    },
    {
      "cell_type": "code",
      "metadata": {
        "colab": {
          "base_uri": "https://localhost:8080/",
          "height": 1000
        },
        "id": "6mTDp16JVyez",
        "outputId": "b0a1a940-e002-4a96-d657-3c45c20690d4"
      },
      "source": [
        "ret=toy_recon(outputs,filters,means)\n",
        "for i in range(5): \n",
        "    inv_img=ret.data.numpy()[i][0]\n",
        "    show_sample(datas[i][0],inv_img)\n",
        "    print ('psnr metric: {}'.format(psnr(datas[i][0],inv_img)))"
      ],
      "execution_count": null,
      "outputs": [
        {
          "output_type": "display_data",
          "data": {
            "image/png": "[encoded data removed]",
            "text/plain": [
              "<Figure size 432x288 with 2 Axes>"
            ]
          },
          "metadata": {
            "needs_background": "light"
          }
        },
        {
          "output_type": "stream",
          "name": "stdout",
          "text": [
            "psnr metric: 92.91564709595738\n"
          ]
        },
        {
          "output_type": "display_data",
          "data": {
            "image/png": "[encoded data removed]",
            "text/plain": [
              "<Figure size 432x288 with 2 Axes>"
            ]
          },
          "metadata": {
            "needs_background": "light"
          }
        },
        {
          "output_type": "stream",
          "name": "stdout",
          "text": [
            "psnr metric: 95.42057962274752\n"
          ]
        },
        {
          "output_type": "display_data",
          "data": {
            "image/png": "[encoded data removed]",
            "text/plain": [
              "<Figure size 432x288 with 2 Axes>"
            ]
          },
          "metadata": {
            "needs_background": "light"
          }
        },
        {
          "output_type": "stream",
          "name": "stdout",
          "text": [
            "psnr metric: 93.89332571494663\n"
          ]
        },
        {
          "output_type": "display_data",
          "data": {
            "image/png": "[encoded data removed]",
            "text/plain": [
              "<Figure size 432x288 with 2 Axes>"
            ]
          },
          "metadata": {
            "needs_background": "light"
          }
        },
        {
          "output_type": "stream",
          "name": "stdout",
          "text": [
            "psnr metric: 91.55135761458675\n"
          ]
        },
        {
          "output_type": "display_data",
          "data": {
            "image/png": "[encoded data removed]",
            "text/plain": [
              "<Figure size 432x288 with 2 Axes>"
            ]
          },
          "metadata": {
            "needs_background": "light"
          }
        },
        {
          "output_type": "stream",
          "name": "stdout",
          "text": [
            "psnr metric: 95.32208166091587\n"
          ]
        }
      ]
    },
    {
      "cell_type": "code",
      "metadata": {
        "id": "I5h9EP6HWrdO"
      },
      "source": [
        ""
      ],
      "execution_count": null,
      "outputs": []
    }
  ]
}